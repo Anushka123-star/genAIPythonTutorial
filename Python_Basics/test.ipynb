{
 "cells": [
  {
   "cell_type": "code",
   "execution_count": null,
   "id": "80b7483d",
   "metadata": {},
   "outputs": [],
   "source": [
    "### Python Example ###"
   ]
  },
  {
   "cell_type": "code",
   "execution_count": null,
   "id": "8bd20699",
   "metadata": {},
   "outputs": [],
   "source": []
  }
 ],
 "metadata": {
  "kernelspec": {
   "display_name": "Python 3",
   "language": "python",
   "name": "python3"
  },
  "language_info": {
   "name": "python",
   "version": "3.12.0"
  }
 },
 "nbformat": 4,
 "nbformat_minor": 5
}
