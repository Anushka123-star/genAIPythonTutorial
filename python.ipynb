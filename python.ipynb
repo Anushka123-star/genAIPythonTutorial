{
 "cells": [
  {
   "cell_type": "code",
   "execution_count": null,
   "id": "ec2eda10",
   "metadata": {
    "vscode": {
     "languageId": "plaintext"
    }
   },
   "outputs": [],
   "source": []
  },
  {
   "cell_type": "code",
   "execution_count": null,
   "id": "700de13f",
   "metadata": {
    "vscode": {
     "languageId": "plaintext"
    }
   },
   "outputs": [],
   "source": []
  },
  {
   "cell_type": "markdown",
   "id": "7ed49546",
   "metadata": {},
   "source": [
    "Python Programming"
   ]
  }
 ],
 "metadata": {
  "language_info": {
   "name": "python"
  }
 },
 "nbformat": 4,
 "nbformat_minor": 5
}
